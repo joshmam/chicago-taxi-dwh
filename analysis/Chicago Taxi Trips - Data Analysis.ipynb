{
 "cells": [
  {
   "cell_type": "code",
   "execution_count": 119,
   "id": "f569afd4",
   "metadata": {},
   "outputs": [],
   "source": [
    "import snowflake.connector\n",
    "\n",
    "from dotenv import load_dotenv\n",
    "load_dotenv()\n",
    "import os\n",
    "\n",
    "import pandas as pd\n",
    "import seaborn as sns\n",
    "import matplotlib.pyplot as plt\n",
    "import datetime as dt"
   ]
  },
  {
   "cell_type": "code",
   "execution_count": 120,
   "id": "a6c841ff",
   "metadata": {},
   "outputs": [],
   "source": [
    "USER = 'chicago'\n",
    "DATABASE = 'chicago'\n",
    "SCHEMA = 'dev'\n",
    "WAREHOUSE = 'compute_wh'\n",
    "ROLE = 'transform'\n",
    "\n",
    "ACCOUNT = os.getenv('SNOWFLAKE_ACC_ID')\n",
    "PASSWORD = os.getenv('SNOWFLAKE_USER_PW')"
   ]
  },
  {
   "cell_type": "code",
   "execution_count": 121,
   "id": "54cab8e0",
   "metadata": {},
   "outputs": [],
   "source": [
    "# Authenticate to Snowflake\n",
    "\n",
    "conn = snowflake.connector.connect(\n",
    "    user=USER,\n",
    "    password=PASSWORD,\n",
    "    account=ACCOUNT,\n",
    "    warehouse=WAREHOUSE,\n",
    "    database=DATABASE,\n",
    "    schema=SCHEMA,\n",
    "    role=ROLE\n",
    "    )\n",
    "\n",
    "# Create a cursor object.\n",
    "cur = conn.cursor()"
   ]
  },
  {
   "cell_type": "code",
   "execution_count": 122,
   "id": "14e598a0",
   "metadata": {},
   "outputs": [],
   "source": [
    "sql_mart_core_metrics = \"SELECT * FROM CHICAGO.DEV.MART_CORE_METRICS ORDER BY DATE ASC\"\n",
    "sql_mart_detailed_metrics = \"SELECT * FROM CHICAGO.DEV.MART_DETAILED_METRICS ORDER BY DATE DESC LIMIT 3000000\"\n",
    "#sql_mart_fleet_metrics = \"SELECT * FROM CHICAGO.DEV.MART_FLEET_METRICS ORDER BY DATE\"\n",
    "\n",
    "# Fetch results and put into dataframe\n",
    "cur.execute(sql_mart_core_metrics)\n",
    "df_core = cur.fetch_pandas_all()\n",
    "\n",
    "cur.execute(sql_mart_detailed_metrics)\n",
    "df_det = cur.fetch_pandas_all()\n",
    "\n",
    "#cur.execute(sql_mart_fleet_metrics)\n",
    "#df_fleet = cur.fetch_pandas_all()\n",
    "\n",
    "# Close the connection\n",
    "conn.close()"
   ]
  },
  {
   "cell_type": "code",
   "execution_count": 123,
   "id": "a044c66e",
   "metadata": {},
   "outputs": [
    {
     "name": "stdout",
     "output_type": "stream",
     "text": [
      "2967 rows in Core Metrics df\n",
      "3000000 rows in Detailed Metrics df\n"
     ]
    }
   ],
   "source": [
    "print(f\"{ len(df_core) } rows in Core Metrics df\")\n",
    "print(f\"{ len(df_det) } rows in Detailed Metrics df\")\n",
    "#print(f\"{ len(df_fleet) } rows in Fleet Metrics df\")"
   ]
  },
  {
   "cell_type": "code",
   "execution_count": 125,
   "id": "c9897c97",
   "metadata": {},
   "outputs": [],
   "source": [
    "df_det.sort_values('DATE', inplace=True)"
   ]
  },
  {
   "cell_type": "markdown",
   "id": "43724ca2",
   "metadata": {},
   "source": [
    "### Create reuseable dataframes filtered by date"
   ]
  },
  {
   "cell_type": "markdown",
   "id": "a3494f23",
   "metadata": {},
   "source": [
    "*Use this to set \"today\" to the current date*"
   ]
  },
  {
   "cell_type": "code",
   "execution_count": 126,
   "id": "481f1836",
   "metadata": {},
   "outputs": [],
   "source": [
    "#today = dt.datetime.now().date()"
   ]
  },
  {
   "cell_type": "markdown",
   "id": "313a1aa8",
   "metadata": {},
   "source": [
    "*Use this to specify the value \"today\"*"
   ]
  },
  {
   "cell_type": "code",
   "execution_count": 129,
   "id": "caf5e627",
   "metadata": {},
   "outputs": [],
   "source": [
    "today = dt.date(2023, 2, 28)"
   ]
  },
  {
   "cell_type": "code",
   "execution_count": 130,
   "id": "02e5e994",
   "metadata": {},
   "outputs": [
    {
     "name": "stdout",
     "output_type": "stream",
     "text": [
      "All reports and charts will be created as if today is 2023-02-28\n"
     ]
    }
   ],
   "source": [
    "print(f\"All reports and charts will be created as if today is {str(today)}\")"
   ]
  },
  {
   "cell_type": "code",
   "execution_count": 147,
   "id": "9313baad",
   "metadata": {},
   "outputs": [],
   "source": [
    "# Filter the dataframes into different date ranges\n",
    "seven_days_ago = today - dt.timedelta(days=6)\n",
    "ninety_days_ago = today - dt.timedelta(days=89)\n",
    "six_months_ago = today - dt.timedelta(days=182)\n",
    "\n",
    "last_7_days_df = df_core[(df_core['DATE'] >= seven_days_ago) & (df_core['DATE'] <= today)]\n",
    "last_90_days_df = df_core[(df_core['DATE'] >= ninety_days_ago) & (df_core['DATE'] <= today)]\n",
    "last_6_months_df = df_core[(df_core['DATE'] >= six_months_ago) & (df_core['DATE'] <= today)]\n",
    "\n",
    "last_7_days_df_det = df_det[(df_det['DATE'] >= seven_days_ago) & (df_det['DATE'] <= today)]\n",
    "last_90_days_df_det = df_det[(df_det['DATE'] >= ninety_days_ago) & (df_det['DATE'] <= today)]\n",
    "last_6_months_df_det = df_det[(df_det['DATE'] >= six_months_ago) & (df_det['DATE'] <= today)]"
   ]
  },
  {
   "cell_type": "code",
   "execution_count": 132,
   "id": "16b060da",
   "metadata": {},
   "outputs": [
    {
     "data": {
      "text/html": [
       "<div>\n",
       "<style scoped>\n",
       "    .dataframe tbody tr th:only-of-type {\n",
       "        vertical-align: middle;\n",
       "    }\n",
       "\n",
       "    .dataframe tbody tr th {\n",
       "        vertical-align: top;\n",
       "    }\n",
       "\n",
       "    .dataframe thead th {\n",
       "        text-align: right;\n",
       "    }\n",
       "</style>\n",
       "<table border=\"1\" class=\"dataframe\">\n",
       "  <thead>\n",
       "    <tr style=\"text-align: right;\">\n",
       "      <th></th>\n",
       "      <th>YEAR</th>\n",
       "      <th>MONTH</th>\n",
       "      <th>MONTH_NUM</th>\n",
       "      <th>DAY</th>\n",
       "      <th>DATE</th>\n",
       "      <th>PAYMENT_TYPE</th>\n",
       "      <th>TRIP_COUNT</th>\n",
       "      <th>TOTAL_TRIP_DISTANCE_KM</th>\n",
       "      <th>TRIP_DURATION_MINS</th>\n",
       "      <th>FARES_AMOUNT</th>\n",
       "      <th>TIPS_AMOUNT</th>\n",
       "      <th>TOTAL_REVENUE_EXC_TIP</th>\n",
       "      <th>WEATHER_DAILY_TEMP_HIGH</th>\n",
       "      <th>WEATHER_DAILY_TEMP_LOW</th>\n",
       "    </tr>\n",
       "  </thead>\n",
       "  <tbody>\n",
       "    <tr>\n",
       "      <th>0</th>\n",
       "      <td>2022</td>\n",
       "      <td>Jan</td>\n",
       "      <td>1</td>\n",
       "      <td>Saturday</td>\n",
       "      <td>2022-01-01</td>\n",
       "      <td>Credit Card</td>\n",
       "      <td>2330</td>\n",
       "      <td>25589.76</td>\n",
       "      <td>37742.21</td>\n",
       "      <td>53678.21</td>\n",
       "      <td>12814.7</td>\n",
       "      <td>66044.61</td>\n",
       "      <td>5.0</td>\n",
       "      <td>-1.3</td>\n",
       "    </tr>\n",
       "  </tbody>\n",
       "</table>\n",
       "</div>"
      ],
      "text/plain": [
       "   YEAR MONTH  MONTH_NUM       DAY        DATE PAYMENT_TYPE  TRIP_COUNT  \\\n",
       "0  2022   Jan          1  Saturday  2022-01-01  Credit Card        2330   \n",
       "\n",
       "   TOTAL_TRIP_DISTANCE_KM  TRIP_DURATION_MINS  FARES_AMOUNT  TIPS_AMOUNT  \\\n",
       "0                25589.76            37742.21      53678.21      12814.7   \n",
       "\n",
       "   TOTAL_REVENUE_EXC_TIP  WEATHER_DAILY_TEMP_HIGH  WEATHER_DAILY_TEMP_LOW  \n",
       "0               66044.61                      5.0                    -1.3  "
      ]
     },
     "execution_count": 132,
     "metadata": {},
     "output_type": "execute_result"
    }
   ],
   "source": [
    "df_core.head(1)"
   ]
  },
  {
   "cell_type": "code",
   "execution_count": 133,
   "id": "923d59ad",
   "metadata": {},
   "outputs": [
    {
     "data": {
      "text/html": [
       "<div>\n",
       "<style scoped>\n",
       "    .dataframe tbody tr th:only-of-type {\n",
       "        vertical-align: middle;\n",
       "    }\n",
       "\n",
       "    .dataframe tbody tr th {\n",
       "        vertical-align: top;\n",
       "    }\n",
       "\n",
       "    .dataframe thead th {\n",
       "        text-align: right;\n",
       "    }\n",
       "</style>\n",
       "<table border=\"1\" class=\"dataframe\">\n",
       "  <thead>\n",
       "    <tr style=\"text-align: right;\">\n",
       "      <th></th>\n",
       "      <th>YEAR</th>\n",
       "      <th>MONTH</th>\n",
       "      <th>MONTH_NUM</th>\n",
       "      <th>DAY</th>\n",
       "      <th>DATE</th>\n",
       "      <th>PAYMENT_TYPE</th>\n",
       "      <th>TAXI_ID</th>\n",
       "      <th>PICKUP_COMMUNITY_AREA</th>\n",
       "      <th>DROPOFF_COMMUNITY_AREA</th>\n",
       "      <th>IS_SHORT_TRIP</th>\n",
       "      <th>HAS_TIP</th>\n",
       "      <th>TRIP_COUNT</th>\n",
       "      <th>TOTAL_TRIP_DISTANCE_KM</th>\n",
       "      <th>TRIP_DURATION_MINS</th>\n",
       "      <th>FARES_AMOUNT</th>\n",
       "      <th>TIPS_AMOUNT</th>\n",
       "      <th>TOTAL_REVENUE_EXC_TIP</th>\n",
       "      <th>COMPANY</th>\n",
       "      <th>WEATHER_DAILY_TEMP_HIGH</th>\n",
       "      <th>WEATHER_DAILY_TEMP_LOW</th>\n",
       "    </tr>\n",
       "  </thead>\n",
       "  <tbody>\n",
       "    <tr>\n",
       "      <th>2999999</th>\n",
       "      <td>2022</td>\n",
       "      <td>Sep</td>\n",
       "      <td>9</td>\n",
       "      <td>Wednesday</td>\n",
       "      <td>2022-09-21</td>\n",
       "      <td>Mobile</td>\n",
       "      <td>644680ecf5bbb5af6329b0c9d4595c39344cd6c50fabab...</td>\n",
       "      <td>32</td>\n",
       "      <td>8</td>\n",
       "      <td>1</td>\n",
       "      <td>1</td>\n",
       "      <td>3</td>\n",
       "      <td>4.528</td>\n",
       "      <td>24.96</td>\n",
       "      <td>31.45</td>\n",
       "      <td>8.74</td>\n",
       "      <td>31.45</td>\n",
       "      <td>Sun Taxi</td>\n",
       "      <td>30.2</td>\n",
       "      <td>18.6</td>\n",
       "    </tr>\n",
       "  </tbody>\n",
       "</table>\n",
       "</div>"
      ],
      "text/plain": [
       "         YEAR MONTH  MONTH_NUM        DAY        DATE PAYMENT_TYPE  \\\n",
       "2999999  2022   Sep          9  Wednesday  2022-09-21       Mobile   \n",
       "\n",
       "                                                   TAXI_ID  \\\n",
       "2999999  644680ecf5bbb5af6329b0c9d4595c39344cd6c50fabab...   \n",
       "\n",
       "         PICKUP_COMMUNITY_AREA  DROPOFF_COMMUNITY_AREA  IS_SHORT_TRIP  \\\n",
       "2999999                     32                       8              1   \n",
       "\n",
       "         HAS_TIP  TRIP_COUNT  TOTAL_TRIP_DISTANCE_KM  TRIP_DURATION_MINS  \\\n",
       "2999999        1           3                   4.528               24.96   \n",
       "\n",
       "         FARES_AMOUNT  TIPS_AMOUNT  TOTAL_REVENUE_EXC_TIP   COMPANY  \\\n",
       "2999999         31.45         8.74                  31.45  Sun Taxi   \n",
       "\n",
       "         WEATHER_DAILY_TEMP_HIGH  WEATHER_DAILY_TEMP_LOW  \n",
       "2999999                     30.2                    18.6  "
      ]
     },
     "execution_count": 133,
     "metadata": {},
     "output_type": "execute_result"
    }
   ],
   "source": [
    "df_det.head(1)"
   ]
  },
  {
   "cell_type": "markdown",
   "id": "90974850",
   "metadata": {},
   "source": [
    "### Trip Volumes\n",
    "\n",
    "Context:\n",
    "We want some high-level baseline metrics to get an initial sense of the taxi market in Chicago.\n",
    "\n",
    "Source table:\n",
    "\n",
    "- Last 30 day trip volume compared to same time last year\n",
    "- Visualise total daily trip volumes past few months (line graph)\n",
    "- Average daily trip duration\n",
    "- Average trip distance\n",
    "\n",
    "\n",
    "Potential issues:\n",
    "doesn't look at longer term trends which might be very useful when considering GTM plan, such as decline in taxi trips over time\n",
    "\n",
    "Further analysis:\n",
    "load more historical data going back 10 years and look at the year-on-year trends of the taxi market (suspect it is in major decline due to rise of ride share services). Taxi data alone doesn't give us the total addressable market or size of the competition, but is still helping in forming some view of it."
   ]
  },
  {
   "cell_type": "markdown",
   "id": "9e2b76f6",
   "metadata": {},
   "source": [
    "# Daily Trip Volume - Last 7 Days"
   ]
  },
  {
   "cell_type": "code",
   "execution_count": 136,
   "id": "5aca67a8",
   "metadata": {},
   "outputs": [
    {
     "data": {
      "image/png": "[encoded data removed]",
      "text/plain": [
       "<Figure size 800x400 with 1 Axes>"
      ]
     },
     "metadata": {},
     "output_type": "display_data"
    }
   ],
   "source": [
    "data_source1 = last_7_days_df.groupby('DATE', as_index=False)['TRIP_COUNT'].sum()\n",
    "\n",
    "plt.figure(figsize=(8, 4))\n",
    "sns.barplot(x='DATE', y='TRIP_COUNT', data=data_source1, color='#6480CC')\n",
    "plt.title(f\"Daily Trip Volume - Last 7 Days as of {today}\")\n",
    "plt.xlabel('Date')\n",
    "plt.ylabel('Trip Count')\n",
    "plt.ylim(0, max(data_source1['TRIP_COUNT']) * 1.2)\n",
    "\n",
    "# Rotate x-axis labels for better readability\n",
    "plt.xticks(rotation=45)\n",
    "\n",
    "# Display the plot\n",
    "plt.show()"
   ]
  },
  {
   "cell_type": "markdown",
   "id": "24d58503",
   "metadata": {},
   "source": [
    "# Monthly Trip Volume - Last 6 Months"
   ]
  },
  {
   "cell_type": "code",
   "execution_count": 143,
   "id": "d9adf3ae",
   "metadata": {},
   "outputs": [
    {
     "data": {
      "image/png": "[encoded data removed]",
      "text/plain": [
       "<Figure size 800x400 with 1 Axes>"
      ]
     },
     "metadata": {},
     "output_type": "display_data"
    }
   ],
   "source": [
    "data_source2 = last_6_months_df.sort_values(['YEAR', 'MONTH_NUM']).groupby('MONTH', as_index=False)['TRIP_COUNT'].sum()\n",
    "\n",
    "# TO DO: Fix months not ordering correctly\n",
    "\n",
    "plt.figure(figsize=(8, 4))\n",
    "sns.barplot(x='MONTH', y='TRIP_COUNT', data=data_source2, color='#6480CC')\n",
    "plt.title(f\"Monthly Trip Volume - Last 6 Months as of {today}\")\n",
    "plt.xlabel('Month')\n",
    "plt.ylabel('Trip Count')\n",
    "plt.ylim(0, max(data_source2['TRIP_COUNT']) * 1.2)\n",
    "\n",
    "# Rotate x-axis labels for better readability\n",
    "plt.xticks(rotation=45)\n",
    "\n",
    "# Display the plot\n",
    "plt.show()"
   ]
  },
  {
   "cell_type": "code",
   "execution_count": 14,
   "id": "770c8ec3",
   "metadata": {},
   "outputs": [],
   "source": [
    "data_source = last_90_days_df.groupby('DATE', as_index=False).agg({'TRIP_DURATION_MINS': 'sum', 'TRIP_COUNT': 'sum'})"
   ]
  },
  {
   "cell_type": "code",
   "execution_count": 15,
   "id": "1443d58b",
   "metadata": {},
   "outputs": [],
   "source": [
    "data_source['avg_trip_duration'] = (data_source['TRIP_DURATION_MINS'] / data_source['TRIP_COUNT']).round(1)"
   ]
  },
  {
   "cell_type": "code",
   "execution_count": 16,
   "id": "d7df7d03",
   "metadata": {},
   "outputs": [
    {
     "data": {
      "text/html": [
       "<div>\n",
       "<style scoped>\n",
       "    .dataframe tbody tr th:only-of-type {\n",
       "        vertical-align: middle;\n",
       "    }\n",
       "\n",
       "    .dataframe tbody tr th {\n",
       "        vertical-align: top;\n",
       "    }\n",
       "\n",
       "    .dataframe thead th {\n",
       "        text-align: right;\n",
       "    }\n",
       "</style>\n",
       "<table border=\"1\" class=\"dataframe\">\n",
       "  <thead>\n",
       "    <tr style=\"text-align: right;\">\n",
       "      <th></th>\n",
       "      <th>DATE</th>\n",
       "      <th>TRIP_DURATION_MINS</th>\n",
       "      <th>TRIP_COUNT</th>\n",
       "      <th>avg_trip_duration</th>\n",
       "    </tr>\n",
       "  </thead>\n",
       "  <tbody>\n",
       "    <tr>\n",
       "      <th>0</th>\n",
       "      <td>2022-06-24</td>\n",
       "      <td>487226.73</td>\n",
       "      <td>22679</td>\n",
       "      <td>21.5</td>\n",
       "    </tr>\n",
       "    <tr>\n",
       "      <th>1</th>\n",
       "      <td>2022-06-25</td>\n",
       "      <td>337799.08</td>\n",
       "      <td>17888</td>\n",
       "      <td>18.9</td>\n",
       "    </tr>\n",
       "    <tr>\n",
       "      <th>2</th>\n",
       "      <td>2022-06-26</td>\n",
       "      <td>382336.40</td>\n",
       "      <td>17079</td>\n",
       "      <td>22.4</td>\n",
       "    </tr>\n",
       "    <tr>\n",
       "      <th>3</th>\n",
       "      <td>2022-06-27</td>\n",
       "      <td>388127.01</td>\n",
       "      <td>19162</td>\n",
       "      <td>20.3</td>\n",
       "    </tr>\n",
       "    <tr>\n",
       "      <th>4</th>\n",
       "      <td>2022-06-28</td>\n",
       "      <td>396484.28</td>\n",
       "      <td>20624</td>\n",
       "      <td>19.2</td>\n",
       "    </tr>\n",
       "    <tr>\n",
       "      <th>5</th>\n",
       "      <td>2022-06-29</td>\n",
       "      <td>408892.48</td>\n",
       "      <td>20429</td>\n",
       "      <td>20.0</td>\n",
       "    </tr>\n",
       "    <tr>\n",
       "      <th>6</th>\n",
       "      <td>2022-06-30</td>\n",
       "      <td>436852.19</td>\n",
       "      <td>20957</td>\n",
       "      <td>20.8</td>\n",
       "    </tr>\n",
       "  </tbody>\n",
       "</table>\n",
       "</div>"
      ],
      "text/plain": [
       "         DATE  TRIP_DURATION_MINS  TRIP_COUNT  avg_trip_duration\n",
       "0  2022-06-24           487226.73       22679               21.5\n",
       "1  2022-06-25           337799.08       17888               18.9\n",
       "2  2022-06-26           382336.40       17079               22.4\n",
       "3  2022-06-27           388127.01       19162               20.3\n",
       "4  2022-06-28           396484.28       20624               19.2\n",
       "5  2022-06-29           408892.48       20429               20.0\n",
       "6  2022-06-30           436852.19       20957               20.8"
      ]
     },
     "execution_count": 16,
     "metadata": {},
     "output_type": "execute_result"
    }
   ],
   "source": [
    "data_source"
   ]
  },
  {
   "cell_type": "code",
   "execution_count": null,
   "id": "d5ab8049",
   "metadata": {},
   "outputs": [],
   "source": []
  },
  {
   "cell_type": "code",
   "execution_count": null,
   "id": "dbcac53c",
   "metadata": {},
   "outputs": [],
   "source": []
  },
  {
   "cell_type": "markdown",
   "id": "b05d1e32",
   "metadata": {},
   "source": [
    "# Average Daily Trip Duration - Last 90 Days"
   ]
  },
  {
   "cell_type": "code",
   "execution_count": 148,
   "id": "4d51cc38",
   "metadata": {},
   "outputs": [
    {
     "data": {
      "image/png": "[encoded data removed]",
      "text/plain": [
       "<Figure size 800x400 with 1 Axes>"
      ]
     },
     "metadata": {},
     "output_type": "display_data"
    }
   ],
   "source": [
    "data_source3 = last_90_days_df.groupby('DATE', as_index=False).agg({'TRIP_DURATION_MINS': 'sum', 'TRIP_COUNT': 'sum'})\n",
    "data_source3['avg_trip_duration'] = (data_source3['TRIP_DURATION_MINS'] / data_source3['TRIP_COUNT']).round(1)\n",
    "\n",
    "# TO DO: Make x-labels clearer, show weeks or months\n",
    "\n",
    "plt.figure(figsize=(8, 4))\n",
    "sns.lineplot(x='DATE', y='avg_trip_duration', data=data_source3, color='#6480CC')\n",
    "plt.title(f\"Average Daily Trip Duration - Last 90 Days as of {today}\")\n",
    "plt.xlabel('Date')\n",
    "plt.ylabel('Avg Trip Duration (minutes)')\n",
    "plt.ylim(0, max(data_source3['avg_trip_duration']) * 1.2)\n",
    "\n",
    "# Rotate x-axis labels for better readability\n",
    "plt.xticks(rotation=45)\n",
    "\n",
    "# Display the plot\n",
    "plt.show()"
   ]
  },
  {
   "cell_type": "markdown",
   "id": "31b4f86d",
   "metadata": {},
   "source": [
    "# Average Daily Trip Distance - Last 90 Days"
   ]
  },
  {
   "cell_type": "code",
   "execution_count": 149,
   "id": "58d1dc46",
   "metadata": {},
   "outputs": [
    {
     "data": {
      "image/png": "[encoded data removed]",
      "text/plain": [
       "<Figure size 800x400 with 1 Axes>"
      ]
     },
     "metadata": {},
     "output_type": "display_data"
    }
   ],
   "source": [
    "data_source4 = last_90_days_df.groupby('DATE', as_index=False).agg({'TOTAL_TRIP_DISTANCE_KM': 'sum', 'TRIP_COUNT': 'sum'})\n",
    "data_source4['avg_trip_distance'] = (data_source4['TOTAL_TRIP_DISTANCE_KM'] / data_source4['TRIP_COUNT']).round(1)\n",
    "\n",
    "# TO DO: Make x-labels clearer, show weeks or months\n",
    "\n",
    "plt.figure(figsize=(8, 4))\n",
    "sns.lineplot(x='DATE', y='avg_trip_distance', data=data_source4, color='#6480CC')\n",
    "plt.title(f\"Average Daily Trip Distance - Last 90 Days as of {today}\")\n",
    "plt.xlabel('Date')\n",
    "plt.ylabel('Avg Trip Distance (km)')\n",
    "plt.ylim(0, max(data_source4['avg_trip_distance']) * 1.2)\n",
    "\n",
    "# Rotate x-axis labels for better readability\n",
    "plt.xticks(rotation=45)\n",
    "\n",
    "# Display the plot\n",
    "plt.show()"
   ]
  },
  {
   "cell_type": "markdown",
   "id": "6a9af2a7",
   "metadata": {},
   "source": [
    "# Share of Market (from trip count) by Company - Last 6 Months"
   ]
  },
  {
   "cell_type": "code",
   "execution_count": 150,
   "id": "cf0fc932",
   "metadata": {},
   "outputs": [],
   "source": [
    "data_source5 = last_6_months_df_det.groupby(by=['COMPANY'], as_index=False).agg({'TRIP_COUNT': 'sum', 'TOTAL_REVENUE_EXC_TIP': 'sum'}).sort_values('TRIP_COUNT', ascending=False)\n",
    "data_source5['TRIP_COUNT'] = data_source5['TRIP_COUNT'].round(0)\n",
    "data_source5['SHARE_OF_TRIPS_PERC'] = ((data_source5['TRIP_COUNT'] / data_source5['TOTAL_REVENUE_EXC_TIP'].sum())*100).round(1)\n",
    "\n",
    "# TO DO: Rounding not working, format percentage"
   ]
  },
  {
   "cell_type": "code",
   "execution_count": 152,
   "id": "b2eca033",
   "metadata": {},
   "outputs": [
    {
     "data": {
      "text/html": [
       "<div>\n",
       "<style scoped>\n",
       "    .dataframe tbody tr th:only-of-type {\n",
       "        vertical-align: middle;\n",
       "    }\n",
       "\n",
       "    .dataframe tbody tr th {\n",
       "        vertical-align: top;\n",
       "    }\n",
       "\n",
       "    .dataframe thead th {\n",
       "        text-align: right;\n",
       "    }\n",
       "</style>\n",
       "<table border=\"1\" class=\"dataframe\">\n",
       "  <thead>\n",
       "    <tr style=\"text-align: right;\">\n",
       "      <th></th>\n",
       "      <th>COMPANY</th>\n",
       "      <th>TRIP_COUNT</th>\n",
       "      <th>TOTAL_REVENUE_EXC_TIP</th>\n",
       "      <th>SHARE_OF_TRIPS_PERC</th>\n",
       "    </tr>\n",
       "  </thead>\n",
       "  <tbody>\n",
       "    <tr>\n",
       "      <th>20</th>\n",
       "      <td>Flash Cab</td>\n",
       "      <td>677962.0</td>\n",
       "      <td>15932587.75</td>\n",
       "      <td>0.9</td>\n",
       "    </tr>\n",
       "    <tr>\n",
       "      <th>33</th>\n",
       "      <td>Taxi Affiliation Services</td>\n",
       "      <td>556212.0</td>\n",
       "      <td>12985683.00</td>\n",
       "      <td>0.7</td>\n",
       "    </tr>\n",
       "    <tr>\n",
       "      <th>9</th>\n",
       "      <td>5 Star Taxi</td>\n",
       "      <td>426474.0</td>\n",
       "      <td>9902172.81</td>\n",
       "      <td>0.5</td>\n",
       "    </tr>\n",
       "    <tr>\n",
       "      <th>32</th>\n",
       "      <td>Sun Taxi</td>\n",
       "      <td>307100.0</td>\n",
       "      <td>7190619.73</td>\n",
       "      <td>0.4</td>\n",
       "    </tr>\n",
       "    <tr>\n",
       "      <th>35</th>\n",
       "      <td>Taxicab Insurance Agency, LLC</td>\n",
       "      <td>300741.0</td>\n",
       "      <td>7207563.42</td>\n",
       "      <td>0.4</td>\n",
       "    </tr>\n",
       "    <tr>\n",
       "      <th>19</th>\n",
       "      <td>City Service</td>\n",
       "      <td>275168.0</td>\n",
       "      <td>6411572.58</td>\n",
       "      <td>0.4</td>\n",
       "    </tr>\n",
       "    <tr>\n",
       "      <th>14</th>\n",
       "      <td>Chicago Independents</td>\n",
       "      <td>168907.0</td>\n",
       "      <td>4023070.17</td>\n",
       "      <td>0.2</td>\n",
       "    </tr>\n",
       "    <tr>\n",
       "      <th>21</th>\n",
       "      <td>Globe Taxi</td>\n",
       "      <td>107093.0</td>\n",
       "      <td>2489169.99</td>\n",
       "      <td>0.1</td>\n",
       "    </tr>\n",
       "    <tr>\n",
       "      <th>25</th>\n",
       "      <td>Medallion Leasin</td>\n",
       "      <td>103338.0</td>\n",
       "      <td>2405473.66</td>\n",
       "      <td>0.1</td>\n",
       "    </tr>\n",
       "    <tr>\n",
       "      <th>12</th>\n",
       "      <td>Blue Ribbon Taxi Association</td>\n",
       "      <td>83847.0</td>\n",
       "      <td>1774570.95</td>\n",
       "      <td>0.1</td>\n",
       "    </tr>\n",
       "  </tbody>\n",
       "</table>\n",
       "</div>"
      ],
      "text/plain": [
       "                          COMPANY  TRIP_COUNT  TOTAL_REVENUE_EXC_TIP  \\\n",
       "20                      Flash Cab    677962.0            15932587.75   \n",
       "33      Taxi Affiliation Services    556212.0            12985683.00   \n",
       "9                     5 Star Taxi    426474.0             9902172.81   \n",
       "32                       Sun Taxi    307100.0             7190619.73   \n",
       "35  Taxicab Insurance Agency, LLC    300741.0             7207563.42   \n",
       "19                   City Service    275168.0             6411572.58   \n",
       "14           Chicago Independents    168907.0             4023070.17   \n",
       "21                     Globe Taxi    107093.0             2489169.99   \n",
       "25               Medallion Leasin    103338.0             2405473.66   \n",
       "12   Blue Ribbon Taxi Association     83847.0             1774570.95   \n",
       "\n",
       "    SHARE_OF_TRIPS_PERC  \n",
       "20                  0.9  \n",
       "33                  0.7  \n",
       "9                   0.5  \n",
       "32                  0.4  \n",
       "35                  0.4  \n",
       "19                  0.4  \n",
       "14                  0.2  \n",
       "21                  0.1  \n",
       "25                  0.1  \n",
       "12                  0.1  "
      ]
     },
     "execution_count": 152,
     "metadata": {},
     "output_type": "execute_result"
    }
   ],
   "source": [
    "data_source5.head(10)"
   ]
  },
  {
   "cell_type": "markdown",
   "id": "58e2cef2",
   "metadata": {},
   "source": [
    "# Trip Volume by Payment Type - Last 6 Months"
   ]
  },
  {
   "cell_type": "code",
   "execution_count": 154,
   "id": "3d3cf6e4",
   "metadata": {},
   "outputs": [
    {
     "data": {
      "image/png": "[encoded data removed]",
      "text/plain": [
       "<Figure size 800x400 with 1 Axes>"
      ]
     },
     "metadata": {},
     "output_type": "display_data"
    }
   ],
   "source": [
    "data_source6 = last_6_months_df.groupby(by=['PAYMENT_TYPE'], as_index=False).agg({'TRIP_COUNT': 'sum'}).sort_values('TRIP_COUNT', ascending=False)\n",
    "\n",
    "# TO DO: change scale of y-axis labels\n",
    "\n",
    "plt.figure(figsize=(8, 4))\n",
    "sns.histplot(data=data_source6, x='PAYMENT_TYPE', weights='TRIP_COUNT', discrete=True , color='#6480CC')\n",
    "plt.xlabel('Payment Method')\n",
    "plt.ylabel('Trip Count')\n",
    "plt.title(f\"Trip Volume by Payment Type - Last 6 Months as of {today}\")\n",
    "\n",
    "plt.xticks(rotation=45)\n",
    "\n",
    "plt.show()"
   ]
  },
  {
   "cell_type": "markdown",
   "id": "02c99810",
   "metadata": {},
   "source": [
    "# Short Trips vs Long Trips - INCOMPLETE"
   ]
  },
  {
   "cell_type": "code",
   "execution_count": 117,
   "id": "e05c6f2c",
   "metadata": {},
   "outputs": [],
   "source": [
    "data_source = last_6_months_df_det.groupby(by=['DAY', 'IS_SHORT_TRIP'], as_index=False).agg({'TRIP_COUNT': 'sum'}).sort_values('DAY')"
   ]
  },
  {
   "cell_type": "code",
   "execution_count": 118,
   "id": "43f7d3e3",
   "metadata": {
    "scrolled": true
   },
   "outputs": [
    {
     "data": {
      "text/html": [
       "<div>\n",
       "<style scoped>\n",
       "    .dataframe tbody tr th:only-of-type {\n",
       "        vertical-align: middle;\n",
       "    }\n",
       "\n",
       "    .dataframe tbody tr th {\n",
       "        vertical-align: top;\n",
       "    }\n",
       "\n",
       "    .dataframe thead th {\n",
       "        text-align: right;\n",
       "    }\n",
       "</style>\n",
       "<table border=\"1\" class=\"dataframe\">\n",
       "  <thead>\n",
       "    <tr style=\"text-align: right;\">\n",
       "      <th></th>\n",
       "      <th>DAY</th>\n",
       "      <th>IS_SHORT_TRIP</th>\n",
       "      <th>TRIP_COUNT</th>\n",
       "    </tr>\n",
       "  </thead>\n",
       "  <tbody>\n",
       "    <tr>\n",
       "      <th>0</th>\n",
       "      <td>Friday</td>\n",
       "      <td>0</td>\n",
       "      <td>34537.0</td>\n",
       "    </tr>\n",
       "    <tr>\n",
       "      <th>1</th>\n",
       "      <td>Friday</td>\n",
       "      <td>1</td>\n",
       "      <td>52794.0</td>\n",
       "    </tr>\n",
       "    <tr>\n",
       "      <th>2</th>\n",
       "      <td>Monday</td>\n",
       "      <td>0</td>\n",
       "      <td>36798.0</td>\n",
       "    </tr>\n",
       "    <tr>\n",
       "      <th>3</th>\n",
       "      <td>Monday</td>\n",
       "      <td>1</td>\n",
       "      <td>45111.0</td>\n",
       "    </tr>\n",
       "    <tr>\n",
       "      <th>4</th>\n",
       "      <td>Saturday</td>\n",
       "      <td>0</td>\n",
       "      <td>26978.0</td>\n",
       "    </tr>\n",
       "    <tr>\n",
       "      <th>5</th>\n",
       "      <td>Saturday</td>\n",
       "      <td>1</td>\n",
       "      <td>41881.0</td>\n",
       "    </tr>\n",
       "    <tr>\n",
       "      <th>6</th>\n",
       "      <td>Sunday</td>\n",
       "      <td>0</td>\n",
       "      <td>29531.0</td>\n",
       "    </tr>\n",
       "    <tr>\n",
       "      <th>7</th>\n",
       "      <td>Sunday</td>\n",
       "      <td>1</td>\n",
       "      <td>31437.0</td>\n",
       "    </tr>\n",
       "    <tr>\n",
       "      <th>8</th>\n",
       "      <td>Thursday</td>\n",
       "      <td>0</td>\n",
       "      <td>35351.0</td>\n",
       "    </tr>\n",
       "    <tr>\n",
       "      <th>9</th>\n",
       "      <td>Thursday</td>\n",
       "      <td>1</td>\n",
       "      <td>52931.0</td>\n",
       "    </tr>\n",
       "    <tr>\n",
       "      <th>10</th>\n",
       "      <td>Tuesday</td>\n",
       "      <td>0</td>\n",
       "      <td>35550.0</td>\n",
       "    </tr>\n",
       "    <tr>\n",
       "      <th>11</th>\n",
       "      <td>Tuesday</td>\n",
       "      <td>1</td>\n",
       "      <td>49871.0</td>\n",
       "    </tr>\n",
       "    <tr>\n",
       "      <th>12</th>\n",
       "      <td>Wednesday</td>\n",
       "      <td>0</td>\n",
       "      <td>32787.0</td>\n",
       "    </tr>\n",
       "    <tr>\n",
       "      <th>13</th>\n",
       "      <td>Wednesday</td>\n",
       "      <td>1</td>\n",
       "      <td>47036.0</td>\n",
       "    </tr>\n",
       "  </tbody>\n",
       "</table>\n",
       "</div>"
      ],
      "text/plain": [
       "          DAY  IS_SHORT_TRIP  TRIP_COUNT\n",
       "0      Friday              0     34537.0\n",
       "1      Friday              1     52794.0\n",
       "2      Monday              0     36798.0\n",
       "3      Monday              1     45111.0\n",
       "4    Saturday              0     26978.0\n",
       "5    Saturday              1     41881.0\n",
       "6      Sunday              0     29531.0\n",
       "7      Sunday              1     31437.0\n",
       "8    Thursday              0     35351.0\n",
       "9    Thursday              1     52931.0\n",
       "10    Tuesday              0     35550.0\n",
       "11    Tuesday              1     49871.0\n",
       "12  Wednesday              0     32787.0\n",
       "13  Wednesday              1     47036.0"
      ]
     },
     "execution_count": 118,
     "metadata": {},
     "output_type": "execute_result"
    }
   ],
   "source": [
    "data_source"
   ]
  },
  {
   "cell_type": "markdown",
   "id": "154161d4",
   "metadata": {},
   "source": [
    "# Tipping Behaviour - INCOMPLETE"
   ]
  },
  {
   "cell_type": "markdown",
   "id": "a25bfaa1",
   "metadata": {},
   "source": [
    "Context:\n",
    "\n",
    "Tipping behaviour means how often and how much passengers tip. Although many factors could influence tipping behaviour, the overall product and service design may affect tipping behaviour. Tipping is likely benefical to driver retention and satisfacton, which are important to the success of BluesMobile Taxis, so we want to make some informed hypotheses around some of the factors that increase tipping.\n",
    "\n",
    "Source table:\n",
    "\n",
    "- average tips rate and %\n",
    "- tip rate by payment method and company (heat map)\n",
    "- avg tip % by company\n",
    "- tipping by trip distance/duration\n",
    "- variance by taxi (vehicle and/pr driver may have an impact)\n",
    "\n",
    "Further analysis:\n",
    "\n",
    "We would expect tipping behaviour also to be strongly correlated with:\n",
    "The taxi driver. This data is not available but we can use taxi_id to estimate. However we don't know to what extent taxis are shared between drivers.\n",
    "Demographics -> The pickup and dropoff locations could be a good proxy for this\n",
    "Time of day -> May correlate to different use cases or trip purposes where tipping is more or less likely"
   ]
  },
  {
   "cell_type": "code",
   "execution_count": 37,
   "id": "de6bea19",
   "metadata": {},
   "outputs": [],
   "source": [
    "data_source = last_6_months_df_det.groupby(by=['COMPANY', 'PAYMENT_TYPE', 'HAS_TIP'], as_index=False).agg({'TRIP_COUNT': 'sum'})\n",
    "data_source['TRIPS_WITH_TIP'] = data_source['TRIP_COUNT'] * data_source['HAS_TIP']\n",
    "data_source2 = data_source.groupby(by=['COMPANY', 'PAYMENT_TYPE'], as_index=False).agg({'TRIPS_WITH_TIP': 'sum', 'TRIP_COUNT': 'sum'})"
   ]
  },
  {
   "cell_type": "code",
   "execution_count": 43,
   "id": "00f63264",
   "metadata": {},
   "outputs": [],
   "source": [
    "data_source2['TIP_RATE'] = ((data_source2['TRIPS_WITH_TIP'] / data_source2['TRIP_COUNT'])*100).round(1)"
   ]
  },
  {
   "cell_type": "code",
   "execution_count": 48,
   "id": "9c87f1bb",
   "metadata": {},
   "outputs": [
    {
     "data": {
      "text/html": [
       "<div>\n",
       "<style scoped>\n",
       "    .dataframe tbody tr th:only-of-type {\n",
       "        vertical-align: middle;\n",
       "    }\n",
       "\n",
       "    .dataframe tbody tr th {\n",
       "        vertical-align: top;\n",
       "    }\n",
       "\n",
       "    .dataframe thead th {\n",
       "        text-align: right;\n",
       "    }\n",
       "</style>\n",
       "<table border=\"1\" class=\"dataframe\">\n",
       "  <thead>\n",
       "    <tr style=\"text-align: right;\">\n",
       "      <th></th>\n",
       "      <th>COMPANY</th>\n",
       "      <th>PAYMENT_TYPE</th>\n",
       "      <th>TRIPS_WITH_TIP</th>\n",
       "      <th>TRIP_COUNT</th>\n",
       "      <th>TIP_RATE</th>\n",
       "    </tr>\n",
       "  </thead>\n",
       "  <tbody>\n",
       "    <tr>\n",
       "      <th>0</th>\n",
       "      <td>24 Seven Taxi</td>\n",
       "      <td>Cash</td>\n",
       "      <td>0.0</td>\n",
       "      <td>2347.0</td>\n",
       "      <td>0.0</td>\n",
       "    </tr>\n",
       "  </tbody>\n",
       "</table>\n",
       "</div>"
      ],
      "text/plain": [
       "         COMPANY PAYMENT_TYPE  TRIPS_WITH_TIP  TRIP_COUNT  TIP_RATE\n",
       "0  24 Seven Taxi         Cash             0.0      2347.0       0.0"
      ]
     },
     "execution_count": 48,
     "metadata": {},
     "output_type": "execute_result"
    }
   ],
   "source": [
    "data_source2.head(1)"
   ]
  },
  {
   "cell_type": "code",
   "execution_count": null,
   "id": "abb641cb",
   "metadata": {},
   "outputs": [],
   "source": []
  },
  {
   "cell_type": "code",
   "execution_count": null,
   "id": "0b925292",
   "metadata": {},
   "outputs": [],
   "source": [
    "pivoted_data = data_source2.pivot_table(index='COMPANY', columns='PAYMENT_TYPE', values='TIP_RATE')\n",
    "\n",
    "# HEATMAP\n",
    "\n",
    "sns.heatmap(pivoted_data, annot=True, cmap='coolwarm', cbar_kws={'label': 'Tip Rate (%)'})\n",
    "\n",
    "# Set axis labels\n",
    "plt.xlabel('Payment Type')\n",
    "plt.ylabel('Company')\n",
    "\n",
    "plt.show()"
   ]
  },
  {
   "cell_type": "code",
   "execution_count": null,
   "id": "88572439",
   "metadata": {},
   "outputs": [],
   "source": []
  },
  {
   "cell_type": "markdown",
   "id": "9cd6d260",
   "metadata": {},
   "source": [
    "# More ideas - INCOMPLETE"
   ]
  },
  {
   "cell_type": "markdown",
   "id": "6b879d8a",
   "metadata": {},
   "source": [
    "### Trip Duration\n",
    "\n",
    "Context:\n",
    "\n",
    "Source table:\n",
    "\n",
    "- percent of short trips\n",
    "\n",
    "- By day of week\n",
    "- Week days vs weekend\n",
    "- By payment method\n",
    "\n",
    "Potential issues:\n",
    "\n",
    "Further analysis:"
   ]
  },
  {
   "cell_type": "code",
   "execution_count": null,
   "id": "4ad41016",
   "metadata": {},
   "outputs": [],
   "source": []
  },
  {
   "cell_type": "markdown",
   "id": "2ab52487",
   "metadata": {},
   "source": [
    "### Fleet Metrics\n",
    "\n",
    "Context:\n",
    "\n",
    "\n",
    "Source table:\n",
    "\n",
    "- Fleet size by company\n",
    "- Total revenue per taxi by company\n",
    "- Fleet utilization rates\n",
    "\n",
    "Potential issues:\n",
    "\n",
    "Further analysis:"
   ]
  },
  {
   "cell_type": "code",
   "execution_count": null,
   "id": "46a6df41",
   "metadata": {},
   "outputs": [],
   "source": []
  },
  {
   "cell_type": "code",
   "execution_count": null,
   "id": "c4e2d23d",
   "metadata": {},
   "outputs": [],
   "source": []
  },
  {
   "cell_type": "markdown",
   "id": "0957331f",
   "metadata": {},
   "source": [
    "How does pickup location (pickup community area) vary by day and time?\n",
    "How crowded is the market? Top companies by share of market\n",
    "Do particular companies dominate certain areas?\n",
    "\n",
    "Tipping behaviour\n",
    "How does tipping behaviour vary by payment type? (is there some flow in the CX that encourages/discourages tipping)\n",
    "How does tipping behaviour vary by company (perhaps they are doing something differently) - % with tip, avg tip amount\n",
    "\n",
    "Assuming long trips are good:\n",
    "How does trip duration vary by pickup time, pickup location/area\n",
    "Does trip duration vary by company? (might indicate that different companies won't take short trips)\n",
    "\n",
    "Pricing:\n",
    "what is the average fare price by company\n",
    "\n",
    "Taxis:\n",
    "Fleet size -> how many unqiue taxi IDs per company\n",
    "Utilisation rate -> For each unique taxi ID, what % of the day is a trip (using total trip duration), copmare across companies & days"
   ]
  },
  {
   "cell_type": "code",
   "execution_count": null,
   "id": "8ed72274",
   "metadata": {},
   "outputs": [],
   "source": []
  }
 ],
 "metadata": {
  "kernelspec": {
   "display_name": "Python 3 (ipykernel)",
   "language": "python",
   "name": "python3"
  },
  "language_info": {
   "codemirror_mode": {
    "name": "ipython",
    "version": 3
   },
   "file_extension": ".py",
   "mimetype": "text/x-python",
   "name": "python",
   "nbconvert_exporter": "python",
   "pygments_lexer": "ipython3",
   "version": "3.10.8"
  }
 },
 "nbformat": 4,
 "nbformat_minor": 5
}
